{
 "cells": [
  {
   "cell_type": "code",
   "execution_count": 2,
   "id": "ab1bb08f",
   "metadata": {},
   "outputs": [],
   "source": [
    "import pandas as pd\n",
    "import seaborn as sns\n",
    "import matplotlib.pyplot as plt\n",
    "%matplotlib inline"
   ]
  },
  {
   "cell_type": "code",
   "execution_count": 7,
   "id": "b89e6b51",
   "metadata": {},
   "outputs": [],
   "source": [
    "churn = pd.read_csv('churn.csv')"
   ]
  },
  {
   "cell_type": "code",
   "execution_count": 8,
   "id": "645bd04f",
   "metadata": {},
   "outputs": [],
   "source": [
    "#将类别变量转化为数字型变量\n",
    "churn = pd.get_dummies(churn)\n",
    "churn.columns = churn.columns.str.lower()\n",
    "churn.drop(['churn_no','gender_male'],axis=1,inplace=True)\n",
    "churn = churn.rename(columns = {'churn_yes':'flag'})"
   ]
  },
  {
   "cell_type": "code",
   "execution_count": 9,
   "id": "4760aa16",
   "metadata": {},
   "outputs": [
    {
     "data": {
      "text/html": [
       "<div>\n",
       "<style scoped>\n",
       "    .dataframe tbody tr th:only-of-type {\n",
       "        vertical-align: middle;\n",
       "    }\n",
       "\n",
       "    .dataframe tbody tr th {\n",
       "        vertical-align: top;\n",
       "    }\n",
       "\n",
       "    .dataframe thead th {\n",
       "        text-align: right;\n",
       "    }\n",
       "</style>\n",
       "<table border=\"1\" class=\"dataframe\">\n",
       "  <thead>\n",
       "    <tr style=\"text-align: right;\">\n",
       "      <th></th>\n",
       "      <th>partner_att</th>\n",
       "      <th>dependents_att</th>\n",
       "      <th>landline</th>\n",
       "      <th>internet_att</th>\n",
       "      <th>internet_other</th>\n",
       "      <th>streamingtv</th>\n",
       "      <th>streamingmovies</th>\n",
       "      <th>contract_month</th>\n",
       "      <th>contract_1yr</th>\n",
       "      <th>paymentbank</th>\n",
       "      <th>paymentcreditcard</th>\n",
       "      <th>paymentelectronic</th>\n",
       "      <th>monthlycharges</th>\n",
       "      <th>totalcharges</th>\n",
       "      <th>flag</th>\n",
       "      <th>gender_female</th>\n",
       "    </tr>\n",
       "  </thead>\n",
       "  <tbody>\n",
       "    <tr>\n",
       "      <th>0</th>\n",
       "      <td>1</td>\n",
       "      <td>0</td>\n",
       "      <td>0</td>\n",
       "      <td>1</td>\n",
       "      <td>0</td>\n",
       "      <td>0</td>\n",
       "      <td>0</td>\n",
       "      <td>1</td>\n",
       "      <td>0</td>\n",
       "      <td>0</td>\n",
       "      <td>0</td>\n",
       "      <td>1</td>\n",
       "      <td>29.85</td>\n",
       "      <td>29.85</td>\n",
       "      <td>0</td>\n",
       "      <td>1</td>\n",
       "    </tr>\n",
       "    <tr>\n",
       "      <th>1</th>\n",
       "      <td>0</td>\n",
       "      <td>0</td>\n",
       "      <td>1</td>\n",
       "      <td>1</td>\n",
       "      <td>0</td>\n",
       "      <td>0</td>\n",
       "      <td>0</td>\n",
       "      <td>0</td>\n",
       "      <td>1</td>\n",
       "      <td>0</td>\n",
       "      <td>0</td>\n",
       "      <td>0</td>\n",
       "      <td>56.95</td>\n",
       "      <td>1889.50</td>\n",
       "      <td>0</td>\n",
       "      <td>0</td>\n",
       "    </tr>\n",
       "    <tr>\n",
       "      <th>2</th>\n",
       "      <td>0</td>\n",
       "      <td>0</td>\n",
       "      <td>1</td>\n",
       "      <td>1</td>\n",
       "      <td>0</td>\n",
       "      <td>0</td>\n",
       "      <td>0</td>\n",
       "      <td>1</td>\n",
       "      <td>0</td>\n",
       "      <td>0</td>\n",
       "      <td>0</td>\n",
       "      <td>0</td>\n",
       "      <td>53.85</td>\n",
       "      <td>108.15</td>\n",
       "      <td>1</td>\n",
       "      <td>0</td>\n",
       "    </tr>\n",
       "    <tr>\n",
       "      <th>3</th>\n",
       "      <td>0</td>\n",
       "      <td>0</td>\n",
       "      <td>0</td>\n",
       "      <td>1</td>\n",
       "      <td>0</td>\n",
       "      <td>0</td>\n",
       "      <td>0</td>\n",
       "      <td>0</td>\n",
       "      <td>1</td>\n",
       "      <td>1</td>\n",
       "      <td>0</td>\n",
       "      <td>0</td>\n",
       "      <td>42.30</td>\n",
       "      <td>1840.75</td>\n",
       "      <td>0</td>\n",
       "      <td>0</td>\n",
       "    </tr>\n",
       "    <tr>\n",
       "      <th>4</th>\n",
       "      <td>0</td>\n",
       "      <td>0</td>\n",
       "      <td>1</td>\n",
       "      <td>0</td>\n",
       "      <td>1</td>\n",
       "      <td>0</td>\n",
       "      <td>0</td>\n",
       "      <td>1</td>\n",
       "      <td>0</td>\n",
       "      <td>0</td>\n",
       "      <td>0</td>\n",
       "      <td>1</td>\n",
       "      <td>70.70</td>\n",
       "      <td>151.65</td>\n",
       "      <td>1</td>\n",
       "      <td>1</td>\n",
       "    </tr>\n",
       "  </tbody>\n",
       "</table>\n",
       "</div>"
      ],
      "text/plain": [
       "   partner_att  dependents_att  landline  internet_att  internet_other  \\\n",
       "0            1               0         0             1               0   \n",
       "1            0               0         1             1               0   \n",
       "2            0               0         1             1               0   \n",
       "3            0               0         0             1               0   \n",
       "4            0               0         1             0               1   \n",
       "\n",
       "   streamingtv  streamingmovies  contract_month  contract_1yr  paymentbank  \\\n",
       "0            0                0               1             0            0   \n",
       "1            0                0               0             1            0   \n",
       "2            0                0               1             0            0   \n",
       "3            0                0               0             1            1   \n",
       "4            0                0               1             0            0   \n",
       "\n",
       "   paymentcreditcard  paymentelectronic  monthlycharges  totalcharges  flag  \\\n",
       "0                  0                  1           29.85         29.85     0   \n",
       "1                  0                  0           56.95       1889.50     0   \n",
       "2                  0                  0           53.85        108.15     1   \n",
       "3                  0                  0           42.30       1840.75     0   \n",
       "4                  0                  1           70.70        151.65     1   \n",
       "\n",
       "   gender_female  \n",
       "0              1  \n",
       "1              0  \n",
       "2              0  \n",
       "3              0  \n",
       "4              1  "
      ]
     },
     "execution_count": 9,
     "metadata": {},
     "output_type": "execute_result"
    }
   ],
   "source": [
    "churn.head()"
   ]
  },
  {
   "cell_type": "code",
   "execution_count": 10,
   "id": "1524d852",
   "metadata": {},
   "outputs": [
    {
     "data": {
      "text/plain": [
       "0    0.73463\n",
       "1    0.26537\n",
       "Name: flag, dtype: float64"
      ]
     },
     "execution_count": 10,
     "metadata": {},
     "output_type": "execute_result"
    }
   ],
   "source": [
    "#查看flag比例\n",
    "churn.flag.value_counts(1)"
   ]
  },
  {
   "cell_type": "code",
   "execution_count": 11,
   "id": "ab11019b",
   "metadata": {},
   "outputs": [
    {
     "data": {
      "text/html": [
       "<div>\n",
       "<style scoped>\n",
       "    .dataframe tbody tr th:only-of-type {\n",
       "        vertical-align: middle;\n",
       "    }\n",
       "\n",
       "    .dataframe tbody tr th {\n",
       "        vertical-align: top;\n",
       "    }\n",
       "\n",
       "    .dataframe thead th {\n",
       "        text-align: right;\n",
       "    }\n",
       "</style>\n",
       "<table border=\"1\" class=\"dataframe\">\n",
       "  <thead>\n",
       "    <tr style=\"text-align: right;\">\n",
       "      <th></th>\n",
       "      <th>partner_att</th>\n",
       "      <th>dependents_att</th>\n",
       "      <th>landline</th>\n",
       "      <th>internet_att</th>\n",
       "      <th>internet_other</th>\n",
       "      <th>streamingtv</th>\n",
       "      <th>streamingmovies</th>\n",
       "      <th>contract_month</th>\n",
       "      <th>contract_1yr</th>\n",
       "      <th>paymentbank</th>\n",
       "      <th>paymentcreditcard</th>\n",
       "      <th>paymentelectronic</th>\n",
       "      <th>monthlycharges</th>\n",
       "      <th>totalcharges</th>\n",
       "      <th>gender_female</th>\n",
       "    </tr>\n",
       "    <tr>\n",
       "      <th>flag</th>\n",
       "      <th></th>\n",
       "      <th></th>\n",
       "      <th></th>\n",
       "      <th></th>\n",
       "      <th></th>\n",
       "      <th></th>\n",
       "      <th></th>\n",
       "      <th></th>\n",
       "      <th></th>\n",
       "      <th></th>\n",
       "      <th></th>\n",
       "      <th></th>\n",
       "      <th></th>\n",
       "      <th></th>\n",
       "      <th></th>\n",
       "    </tr>\n",
       "  </thead>\n",
       "  <tbody>\n",
       "    <tr>\n",
       "      <th>0</th>\n",
       "      <td>0.528218</td>\n",
       "      <td>0.344801</td>\n",
       "      <td>0.901044</td>\n",
       "      <td>0.379204</td>\n",
       "      <td>0.347700</td>\n",
       "      <td>0.365868</td>\n",
       "      <td>0.369927</td>\n",
       "      <td>0.429068</td>\n",
       "      <td>0.252609</td>\n",
       "      <td>0.248550</td>\n",
       "      <td>0.249324</td>\n",
       "      <td>0.250097</td>\n",
       "      <td>61.265124</td>\n",
       "      <td>2545.918081</td>\n",
       "      <td>0.492656</td>\n",
       "    </tr>\n",
       "    <tr>\n",
       "      <th>1</th>\n",
       "      <td>0.357945</td>\n",
       "      <td>0.174425</td>\n",
       "      <td>0.909042</td>\n",
       "      <td>0.245586</td>\n",
       "      <td>0.693954</td>\n",
       "      <td>0.435527</td>\n",
       "      <td>0.437667</td>\n",
       "      <td>0.885500</td>\n",
       "      <td>0.088818</td>\n",
       "      <td>0.138042</td>\n",
       "      <td>0.124131</td>\n",
       "      <td>0.573034</td>\n",
       "      <td>74.441332</td>\n",
       "      <td>1528.514714</td>\n",
       "      <td>0.502408</td>\n",
       "    </tr>\n",
       "  </tbody>\n",
       "</table>\n",
       "</div>"
      ],
      "text/plain": [
       "      partner_att  dependents_att  landline  internet_att  internet_other  \\\n",
       "flag                                                                        \n",
       "0        0.528218        0.344801  0.901044      0.379204        0.347700   \n",
       "1        0.357945        0.174425  0.909042      0.245586        0.693954   \n",
       "\n",
       "      streamingtv  streamingmovies  contract_month  contract_1yr  paymentbank  \\\n",
       "flag                                                                            \n",
       "0        0.365868         0.369927        0.429068      0.252609     0.248550   \n",
       "1        0.435527         0.437667        0.885500      0.088818     0.138042   \n",
       "\n",
       "      paymentcreditcard  paymentelectronic  monthlycharges  totalcharges  \\\n",
       "flag                                                                       \n",
       "0              0.249324           0.250097       61.265124   2545.918081   \n",
       "1              0.124131           0.573034       74.441332   1528.514714   \n",
       "\n",
       "      gender_female  \n",
       "flag                 \n",
       "0          0.492656  \n",
       "1          0.502408  "
      ]
     },
     "execution_count": 11,
     "metadata": {},
     "output_type": "execute_result"
    }
   ],
   "source": [
    "summary = churn.groupby('flag')\n",
    "summary.mean()"
   ]
  },
  {
   "cell_type": "code",
   "execution_count": 12,
   "id": "4d15fcac",
   "metadata": {},
   "outputs": [
    {
     "data": {
      "text/plain": [
       "<AxesSubplot:xlabel='count', ylabel='contract_month'>"
      ]
     },
     "execution_count": 12,
     "metadata": {},
     "output_type": "execute_result"
    },
    {
     "data": {
      "image/png": "[encoded data removed]",
      "text/plain": [
       "<Figure size 432x288 with 1 Axes>"
      ]
     },
     "metadata": {
      "needs_background": "light"
     },
     "output_type": "display_data"
    }
   ],
   "source": [
    "#contract_month与客户流失的关系\n",
    "sns.countplot(y='contract_month',hue='flag',data=churn)"
   ]
  },
  {
   "cell_type": "code",
   "execution_count": 13,
   "id": "72060cef",
   "metadata": {},
   "outputs": [
    {
     "data": {
      "text/html": [
       "<div>\n",
       "<style scoped>\n",
       "    .dataframe tbody tr th:only-of-type {\n",
       "        vertical-align: middle;\n",
       "    }\n",
       "\n",
       "    .dataframe tbody tr th {\n",
       "        vertical-align: top;\n",
       "    }\n",
       "\n",
       "    .dataframe thead th {\n",
       "        text-align: right;\n",
       "    }\n",
       "</style>\n",
       "<table border=\"1\" class=\"dataframe\">\n",
       "  <thead>\n",
       "    <tr style=\"text-align: right;\">\n",
       "      <th></th>\n",
       "      <th>flag</th>\n",
       "    </tr>\n",
       "  </thead>\n",
       "  <tbody>\n",
       "    <tr>\n",
       "      <th>flag</th>\n",
       "      <td>1.000000</td>\n",
       "    </tr>\n",
       "    <tr>\n",
       "      <th>contract_month</th>\n",
       "      <td>0.405103</td>\n",
       "    </tr>\n",
       "    <tr>\n",
       "      <th>internet_other</th>\n",
       "      <td>0.308020</td>\n",
       "    </tr>\n",
       "    <tr>\n",
       "      <th>paymentelectronic</th>\n",
       "      <td>0.301919</td>\n",
       "    </tr>\n",
       "    <tr>\n",
       "      <th>monthlycharges</th>\n",
       "      <td>0.193356</td>\n",
       "    </tr>\n",
       "    <tr>\n",
       "      <th>streamingtv</th>\n",
       "      <td>0.063228</td>\n",
       "    </tr>\n",
       "    <tr>\n",
       "      <th>streamingmovies</th>\n",
       "      <td>0.061382</td>\n",
       "    </tr>\n",
       "    <tr>\n",
       "      <th>landline</th>\n",
       "      <td>0.011942</td>\n",
       "    </tr>\n",
       "    <tr>\n",
       "      <th>gender_female</th>\n",
       "      <td>0.008612</td>\n",
       "    </tr>\n",
       "    <tr>\n",
       "      <th>paymentbank</th>\n",
       "      <td>-0.117937</td>\n",
       "    </tr>\n",
       "    <tr>\n",
       "      <th>internet_att</th>\n",
       "      <td>-0.124214</td>\n",
       "    </tr>\n",
       "    <tr>\n",
       "      <th>paymentcreditcard</th>\n",
       "      <td>-0.134302</td>\n",
       "    </tr>\n",
       "    <tr>\n",
       "      <th>partner_att</th>\n",
       "      <td>-0.150448</td>\n",
       "    </tr>\n",
       "    <tr>\n",
       "      <th>dependents_att</th>\n",
       "      <td>-0.164221</td>\n",
       "    </tr>\n",
       "    <tr>\n",
       "      <th>contract_1yr</th>\n",
       "      <td>-0.177820</td>\n",
       "    </tr>\n",
       "    <tr>\n",
       "      <th>totalcharges</th>\n",
       "      <td>-0.198175</td>\n",
       "    </tr>\n",
       "  </tbody>\n",
       "</table>\n",
       "</div>"
      ],
      "text/plain": [
       "                       flag\n",
       "flag               1.000000\n",
       "contract_month     0.405103\n",
       "internet_other     0.308020\n",
       "paymentelectronic  0.301919\n",
       "monthlycharges     0.193356\n",
       "streamingtv        0.063228\n",
       "streamingmovies    0.061382\n",
       "landline           0.011942\n",
       "gender_female      0.008612\n",
       "paymentbank       -0.117937\n",
       "internet_att      -0.124214\n",
       "paymentcreditcard -0.134302\n",
       "partner_att       -0.150448\n",
       "dependents_att    -0.164221\n",
       "contract_1yr      -0.177820\n",
       "totalcharges      -0.198175"
      ]
     },
     "execution_count": 13,
     "metadata": {},
     "output_type": "execute_result"
    }
   ],
   "source": [
    "#相关性\n",
    "churn.corr()[['flag']].sort_values('flag',ascending=False)"
   ]
  },
  {
   "cell_type": "code",
   "execution_count": 14,
   "id": "cc32455b",
   "metadata": {},
   "outputs": [
    {
     "data": {
      "text/plain": [
       "<AxesSubplot:>"
      ]
     },
     "execution_count": 14,
     "metadata": {},
     "output_type": "execute_result"
    },
    {
     "data": {
      "image/png": "[encoded data removed]",
      "text/plain": [
       "<Figure size 432x288 with 2 Axes>"
      ]
     },
     "metadata": {
      "needs_background": "light"
     },
     "output_type": "display_data"
    }
   ],
   "source": [
    "#使用热力图呈现变量间相关性\n",
    "q1=['flag','contract_month','internet_other','totalcharges']\n",
    "sns.heatmap(churn[q1].corr())"
   ]
  },
  {
   "cell_type": "code",
   "execution_count": 18,
   "id": "c6a9f374",
   "metadata": {},
   "outputs": [],
   "source": [
    "#模型建立\n",
    "#建模并拟合模型\n",
    "from sklearn import linear_model\n",
    "lr=linear_model.LogisticRegression()#使用逻辑回归模块"
   ]
  },
  {
   "cell_type": "code",
   "execution_count": 19,
   "id": "75ee40f5",
   "metadata": {},
   "outputs": [],
   "source": [
    "#设定x和y变量\n",
    "y=churn['flag']\n",
    "x=churn[['contract_month','internet_other','streamingtv']]"
   ]
  },
  {
   "cell_type": "code",
   "execution_count": 20,
   "id": "9ebd35d9",
   "metadata": {},
   "outputs": [],
   "source": [
    "# 切分训练集和测试集\n",
    "from sklearn.model_selection import train_test_split\n",
    "x_train,x_test,y_train,y_test=train_test_split(x,y,test_size=0.3,random_state=100)"
   ]
  },
  {
   "cell_type": "code",
   "execution_count": 21,
   "id": "18b2e5f7",
   "metadata": {},
   "outputs": [
    {
     "data": {
      "text/plain": [
       "LogisticRegression()"
      ]
     },
     "execution_count": 21,
     "metadata": {},
     "output_type": "execute_result"
    }
   ],
   "source": [
    "lr.fit(x_train,y_train)"
   ]
  },
  {
   "cell_type": "code",
   "execution_count": 24,
   "id": "06d72410",
   "metadata": {},
   "outputs": [
    {
     "data": {
      "text/plain": [
       "array([-3.25029156])"
      ]
     },
     "execution_count": 24,
     "metadata": {},
     "output_type": "execute_result"
    }
   ],
   "source": [
    "# 查看模型截距\n",
    "lr.intercept_"
   ]
  },
  {
   "cell_type": "code",
   "execution_count": 26,
   "id": "441b3f9b",
   "metadata": {},
   "outputs": [
    {
     "data": {
      "text/plain": [
       "array([[2.2229613 , 1.15089043, 0.24559832]])"
      ]
     },
     "execution_count": 26,
     "metadata": {},
     "output_type": "execute_result"
    }
   ],
   "source": [
    "# 查看模型系数\n",
    "lr.coef_"
   ]
  },
  {
   "cell_type": "code",
   "execution_count": 27,
   "id": "af35bbed",
   "metadata": {},
   "outputs": [
    {
     "name": "stdout",
     "output_type": "stream",
     "text": [
      "[0 1 0 ... 0 1 1]\n"
     ]
    }
   ],
   "source": [
    "#模型评估\n",
    "#基于模型的结果，对训练集与测试集中x的真实值预测对应的y\n",
    "y_pred_train=lr.predict(x_train)\n",
    "y_pred_test=lr.predict(x_test)\n",
    "print(y_pred_train)"
   ]
  },
  {
   "cell_type": "code",
   "execution_count": 28,
   "id": "4499722c",
   "metadata": {},
   "outputs": [
    {
     "data": {
      "text/plain": [
       "array([[2975,  652],\n",
       "       [ 483,  820]])"
      ]
     },
     "execution_count": 28,
     "metadata": {},
     "output_type": "execute_result"
    }
   ],
   "source": [
    "#搭建训练集混淆矩阵\n",
    "import sklearn.metrics as metrics\n",
    "metrics.confusion_matrix(y_train,y_pred_train)"
   ]
  },
  {
   "cell_type": "code",
   "execution_count": 29,
   "id": "47bfecec",
   "metadata": {},
   "outputs": [
    {
     "data": {
      "text/plain": [
       "0.7697768762677485"
      ]
     },
     "execution_count": 29,
     "metadata": {},
     "output_type": "execute_result"
    }
   ],
   "source": [
    "#计算训练集准确率\n",
    "metrics.accuracy_score(y_train,y_pred_train)"
   ]
  },
  {
   "cell_type": "code",
   "execution_count": 30,
   "id": "e4f9482c",
   "metadata": {},
   "outputs": [
    {
     "data": {
      "text/plain": [
       "array([[1233,  314],\n",
       "       [ 224,  342]])"
      ]
     },
     "execution_count": 30,
     "metadata": {},
     "output_type": "execute_result"
    }
   ],
   "source": [
    "#搭建测试集混淆矩阵\n",
    "metrics.confusion_matrix(y_test,y_pred_test)"
   ]
  },
  {
   "cell_type": "code",
   "execution_count": 31,
   "id": "f3c4fc9f",
   "metadata": {},
   "outputs": [
    {
     "data": {
      "text/plain": [
       "0.7453857075248462"
      ]
     },
     "execution_count": 31,
     "metadata": {},
     "output_type": "execute_result"
    }
   ],
   "source": [
    "#计算测试集准确率\n",
    "metrics.accuracy_score(y_test,y_pred_test)"
   ]
  },
  {
   "cell_type": "code",
   "execution_count": 32,
   "id": "0eba2fca",
   "metadata": {},
   "outputs": [],
   "source": [
    "#模型优化 调整参数 test_size:0.3->0.5\n",
    "from sklearn.model_selection import train_test_split\n",
    "x_train,x_test,y_train,y_test=train_test_split(x,y,test_size=0.5,random_state=100)"
   ]
  },
  {
   "cell_type": "code",
   "execution_count": 33,
   "id": "e5cfdd1b",
   "metadata": {},
   "outputs": [
    {
     "data": {
      "text/plain": [
       "LogisticRegression()"
      ]
     },
     "execution_count": 33,
     "metadata": {},
     "output_type": "execute_result"
    }
   ],
   "source": [
    "#建模\n",
    "from sklearn import linear_model\n",
    "lr=linear_model.LogisticRegression()\n",
    "lr.fit(x_train,y_train)"
   ]
  },
  {
   "cell_type": "code",
   "execution_count": 34,
   "id": "90789f25",
   "metadata": {},
   "outputs": [
    {
     "name": "stdout",
     "output_type": "stream",
     "text": [
      "[0 1 0 ... 0 1 1]\n"
     ]
    }
   ],
   "source": [
    "#基于模型的结果，对训练集与测试集中x的真实值预测对应的y\n",
    "y_pred_train=lr.predict(x_train)\n",
    "y_pred_test=lr.predict(x_test)\n",
    "print(y_pred_train)"
   ]
  },
  {
   "cell_type": "code",
   "execution_count": 35,
   "id": "c825d451",
   "metadata": {},
   "outputs": [
    {
     "data": {
      "text/plain": [
       "array([[2128,  466],\n",
       "       [ 347,  580]])"
      ]
     },
     "execution_count": 35,
     "metadata": {},
     "output_type": "execute_result"
    }
   ],
   "source": [
    "#优化模型评估 计算准确率\n",
    "#搭建训练集混淆矩阵\n",
    "import sklearn.metrics as metrics\n",
    "metrics.confusion_matrix(y_train,y_pred_train)"
   ]
  },
  {
   "cell_type": "code",
   "execution_count": 36,
   "id": "b2a0b90e",
   "metadata": {},
   "outputs": [
    {
     "data": {
      "text/plain": [
       "0.7690996875887532"
      ]
     },
     "execution_count": 36,
     "metadata": {},
     "output_type": "execute_result"
    }
   ],
   "source": [
    "#计算训练集准确率\n",
    "metrics.accuracy_score(y_train,y_pred_train)"
   ]
  },
  {
   "cell_type": "code",
   "execution_count": 37,
   "id": "dd6a94b8",
   "metadata": {},
   "outputs": [
    {
     "data": {
      "text/plain": [
       "array([[2080,  500],\n",
       "       [ 360,  582]])"
      ]
     },
     "execution_count": 37,
     "metadata": {},
     "output_type": "execute_result"
    }
   ],
   "source": [
    "#搭建测试集混淆矩阵\n",
    "metrics.confusion_matrix(y_test,y_pred_test)"
   ]
  },
  {
   "cell_type": "code",
   "execution_count": 38,
   "id": "d8e2cf9c",
   "metadata": {},
   "outputs": [
    {
     "data": {
      "text/plain": [
       "0.7558205565019875"
      ]
     },
     "execution_count": 38,
     "metadata": {},
     "output_type": "execute_result"
    }
   ],
   "source": [
    "#计算测试集准确率\n",
    "metrics.accuracy_score(y_test,y_pred_test)"
   ]
  },
  {
   "attachments": {},
   "cell_type": "markdown",
   "id": "a717cc33",
   "metadata": {},
   "source": [
    "原模型:\n",
    "训练集准确率 0.770\n",
    "测试集准确率 0.745\n",
    "参数调整后:\n",
    "训练集准确率 0.769\n",
    "测试集准确率 0.756 ↑"
   ]
  },
  {
   "cell_type": "markdown",
   "id": "be5e09f7",
   "metadata": {},
   "source": [
    "此时测试集准确率上升，训练集不变，说明样本量不够"
   ]
  },
  {
   "cell_type": "code",
   "execution_count": 39,
   "id": "930eaae9",
   "metadata": {},
   "outputs": [],
   "source": [
    "#模型优化 调整变量\n",
    "#调整变量\n",
    "y=churn['flag']\n",
    "x=churn[['contract_month','internet_other','paymentelectronic']]"
   ]
  },
  {
   "cell_type": "code",
   "execution_count": 40,
   "id": "f98471ef",
   "metadata": {},
   "outputs": [],
   "source": [
    "# 加载数据切分工具包\n",
    "from sklearn.model_selection import train_test_split\n",
    "# 切分训练集和测试集\n",
    "x_train,x_test,y_train,y_test=train_test_split(x,y,test_size=0.5,random_state=100)"
   ]
  },
  {
   "cell_type": "code",
   "execution_count": 41,
   "id": "3b612748",
   "metadata": {},
   "outputs": [
    {
     "data": {
      "text/plain": [
       "LogisticRegression()"
      ]
     },
     "execution_count": 41,
     "metadata": {},
     "output_type": "execute_result"
    }
   ],
   "source": [
    "#建模\n",
    "from sklearn import linear_model\n",
    "lr=linear_model.LogisticRegression()\n",
    "lr.fit(x_train,y_train)"
   ]
  },
  {
   "cell_type": "code",
   "execution_count": 42,
   "id": "38660be6",
   "metadata": {},
   "outputs": [
    {
     "name": "stdout",
     "output_type": "stream",
     "text": [
      "[0 1 0 ... 0 1 1]\n"
     ]
    }
   ],
   "source": [
    "#基于模型的结果，对训练集与测试集中x的真实值预测对应的y\n",
    "y_pred_train=lr.predict(x_train)\n",
    "y_pred_test=lr.predict(x_test)\n",
    "print(y_pred_train)"
   ]
  },
  {
   "cell_type": "code",
   "execution_count": 43,
   "id": "d70d388c",
   "metadata": {},
   "outputs": [
    {
     "data": {
      "text/plain": [
       "array([[2340,  254],\n",
       "       [ 528,  399]])"
      ]
     },
     "execution_count": 43,
     "metadata": {},
     "output_type": "execute_result"
    }
   ],
   "source": [
    "#优化模型评估 计算准确率\n",
    "#搭建训练集混淆矩阵\n",
    "import sklearn.metrics as metrics\n",
    "metrics.confusion_matrix(y_train,y_pred_train)"
   ]
  },
  {
   "cell_type": "code",
   "execution_count": 44,
   "id": "6f5196f2",
   "metadata": {},
   "outputs": [
    {
     "data": {
      "text/plain": [
       "0.7779040045441636"
      ]
     },
     "execution_count": 44,
     "metadata": {},
     "output_type": "execute_result"
    }
   ],
   "source": [
    "#计算训练集准确率\n",
    "metrics.accuracy_score(y_train,y_pred_train)"
   ]
  },
  {
   "cell_type": "code",
   "execution_count": 45,
   "id": "7e563038",
   "metadata": {},
   "outputs": [
    {
     "data": {
      "text/plain": [
       "array([[2316,  264],\n",
       "       [ 552,  390]])"
      ]
     },
     "execution_count": 45,
     "metadata": {},
     "output_type": "execute_result"
    }
   ],
   "source": [
    "#搭建测试集混淆矩阵\n",
    "metrics.confusion_matrix(y_test,y_pred_test)"
   ]
  },
  {
   "cell_type": "code",
   "execution_count": 46,
   "id": "27421992",
   "metadata": {},
   "outputs": [
    {
     "data": {
      "text/plain": [
       "0.768313458262351"
      ]
     },
     "execution_count": 46,
     "metadata": {},
     "output_type": "execute_result"
    }
   ],
   "source": [
    "#计算测试集准确率\n",
    "metrics.accuracy_score(y_test,y_pred_test)"
   ]
  },
  {
   "cell_type": "markdown",
   "id": "923ff801",
   "metadata": {},
   "source": [
    "原模型:\n",
    "训练集准确率 0.770\n",
    "测试集准确率 0.745"
   ]
  },
  {
   "cell_type": "markdown",
   "id": "bb41d986",
   "metadata": {},
   "source": [
    "参数调整后:\n",
    "训练集准确率 0.769\n",
    "测试集准确率 0.756 ↑"
   ]
  },
  {
   "cell_type": "markdown",
   "id": "c41a9229",
   "metadata": {},
   "source": [
    "调整变量后:\n",
    "训练集准确率  0.778↑\n",
    "测试集准确率  0.768↑"
   ]
  },
  {
   "cell_type": "code",
   "execution_count": 47,
   "id": "1f636d61",
   "metadata": {},
   "outputs": [
    {
     "data": {
      "text/plain": [
       "array([-3.22833942])"
      ]
     },
     "execution_count": 47,
     "metadata": {},
     "output_type": "execute_result"
    }
   ],
   "source": [
    "# 查看模型截距\n",
    "lr.intercept_"
   ]
  },
  {
   "cell_type": "code",
   "execution_count": 48,
   "id": "60005a0f",
   "metadata": {},
   "outputs": [
    {
     "data": {
      "text/plain": [
       "array([[2.03292538, 1.04095427, 0.62567014]])"
      ]
     },
     "execution_count": 48,
     "metadata": {},
     "output_type": "execute_result"
    }
   ],
   "source": [
    "# 查看模型系数\n",
    "# 'contract_month','internet_other','paymentelectronic'\n",
    "lr.coef_"
   ]
  }
 ],
 "metadata": {
  "kernelspec": {
   "display_name": "py36",
   "language": "python",
   "name": "py36"
  },
  "language_info": {
   "codemirror_mode": {
    "name": "ipython",
    "version": 3
   },
   "file_extension": ".py",
   "mimetype": "text/x-python",
   "name": "python",
   "nbconvert_exporter": "python",
   "pygments_lexer": "ipython3",
   "version": "3.7.6"
  }
 },
 "nbformat": 4,
 "nbformat_minor": 5
}
